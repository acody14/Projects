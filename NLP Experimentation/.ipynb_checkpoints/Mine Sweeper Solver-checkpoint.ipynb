{
 "cells": [
  {
   "cell_type": "code",
   "execution_count": 16,
   "id": "a9167ecc-7c9e-4356-91ae-7350808eb8e4",
   "metadata": {},
   "outputs": [],
   "source": [
    "        gamemap = \"\"\"\n",
    "? ? ? ? ? ?\n",
    "? ? ? ? ? ?\n",
    "? ? ? 0 ? ?\n",
    "? ? ? ? ? ?\n",
    "? ? ? ? ? ?\n",
    "0 0 0 ? ? ?\n",
    "\"\"\".strip()\n",
    "        result = \"\"\"\n",
    "1 x 1 1 x 1\n",
    "2 2 2 1 2 2\n",
    "2 x 2 0 1 x\n",
    "2 x 2 1 2 2\n",
    "1 1 1 1 x 1\n",
    "0 0 0 1 1 1\n",
    "\"\"\".strip()"
   ]
  },
  {
   "cell_type": "code",
   "execution_count": 17,
   "id": "6a73ac08-a045-45c1-9146-3428ae998015",
   "metadata": {},
   "outputs": [],
   "source": [
    "# creating 2D array of gameboard\n",
    "gm_matrix = []\n",
    "for row in gamemap.split(\"\\n\"):\n",
    "    gm_matrix.append(row.split())\n",
    "\n",
    "# creating 2D array of result\n",
    "result_matrix = []\n",
    "for row in result.split(\"\\n\"):\n",
    "    result_matrix.append(row.split())"
   ]
  },
  {
   "cell_type": "code",
   "execution_count": 20,
   "id": "f1aa26af-ea02-4a17-953d-201a4f2d088b",
   "metadata": {},
   "outputs": [],
   "source": [
    "def print_matrix(matrix):\n",
    "    for row in matrix:\n",
    "        print(row)\n",
    "\n",
    "#print(\"gameboard matrix: \")\n",
    "#print_matrix(gm_matrix)\n",
    "#print(\"\\nsolution matrix: \")\n",
    "#print_matrix(result_matrix)\n",
    "\n",
    "def print_progress_matrices():\n",
    "    print(\"current gameboard matrix:\")\n",
    "    for row in gm_matrix:\n",
    "        print(row)\n",
    "\n",
    "    print(\"solution matrix: \")\n",
    "    for row in result_matrix:\n",
    "        print(row)"
   ]
  },
  {
   "cell_type": "code",
   "execution_count": 21,
   "id": "8c5a1c86-46bd-4f70-a514-a15c80a45fa5",
   "metadata": {},
   "outputs": [
    {
     "name": "stdout",
     "output_type": "stream",
     "text": [
      "current gameboard matrix:\n",
      "['?', '?', '?', '?', '?', '?']\n",
      "['?', '?', '2', '1', '2', '?']\n",
      "['?', '?', '2', '0', '1', '?']\n",
      "['?', '?', '2', '1', '2', '?']\n",
      "['1', '1', '1', '1', '?', '?']\n",
      "['0', '0', '0', '1', '?', '?']\n",
      "solution matrix: \n",
      "['1', 'x', '1', '1', 'x', '1']\n",
      "['2', '2', '2', '1', '2', '2']\n",
      "['2', 'x', '2', '0', '1', 'x']\n",
      "['2', 'x', '2', '1', '2', '2']\n",
      "['1', '1', '1', '1', 'x', '1']\n",
      "['0', '0', '0', '1', '1', '1']\n"
     ]
    }
   ],
   "source": [
    "n = 6\n",
    "\n",
    "for row_index in range(n):\n",
    "    for cell_index in range(n):\n",
    "\n",
    "        if gm_matrix[row_index][cell_index] == '0':\n",
    "            # \"opening\" new cell by referring to solution matrix\n",
    "            # top, bottom, left, right\n",
    "            gm_matrix[min(row_index+1,n-1)][cell_index] = result_matrix[min(row_index+1,n-1)][cell_index]\n",
    "            gm_matrix[max(row_index-1,0)][cell_index] = result_matrix[max(row_index-1,0)][cell_index]  \n",
    "            gm_matrix[row_index][max(cell_index-1,0)] = result_matrix[row_index][max(cell_index-1,0)]  \n",
    "            gm_matrix[row_index][min(cell_index+1, n-1)] = result_matrix[row_index][min(cell_index+1, n-1)]\n",
    "            # top left, top right, bottom left, bottom right\n",
    "            gm_matrix[min(row_index+1,n-1)][max(cell_index-1,0)] = result_matrix[min(row_index+1,n-1)][max(cell_index-1,0)]  \n",
    "            gm_matrix[min(row_index+1,n-1)][min(cell_index+1, n-1)] = result_matrix[min(row_index+1,n-1)][min(cell_index+1, n-1)]\n",
    "            gm_matrix[max(row_index-1,0)][max(cell_index-1,0)] = result_matrix[max(row_index-1,0)][max(cell_index-1,0)]   \n",
    "            gm_matrix[max(row_index-1,0)][min(cell_index+1, n-1)] = result_matrix[max(row_index-1,0)][min(cell_index+1, n-1)]  \n",
    "        \n",
    "print_progress_matrices()"
   ]
  },
  {
   "cell_type": "code",
   "execution_count": null,
   "id": "19a2ceba-0a0a-473e-a04b-ce2bc84e2faa",
   "metadata": {},
   "outputs": [],
   "source": []
  }
 ],
 "metadata": {
  "kernelspec": {
   "display_name": "Python 3 (ipykernel)",
   "language": "python",
   "name": "python3"
  },
  "language_info": {
   "codemirror_mode": {
    "name": "ipython",
    "version": 3
   },
   "file_extension": ".py",
   "mimetype": "text/x-python",
   "name": "python",
   "nbconvert_exporter": "python",
   "pygments_lexer": "ipython3",
   "version": "3.11.7"
  }
 },
 "nbformat": 4,
 "nbformat_minor": 5
}
