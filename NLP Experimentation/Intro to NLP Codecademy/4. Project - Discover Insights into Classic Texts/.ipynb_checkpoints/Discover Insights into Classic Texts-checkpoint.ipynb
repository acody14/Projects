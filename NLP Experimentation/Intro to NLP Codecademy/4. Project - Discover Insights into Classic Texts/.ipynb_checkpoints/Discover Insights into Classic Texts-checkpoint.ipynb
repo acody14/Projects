{
 "cells": [
  {
   "cell_type": "markdown",
   "id": "74ff79ad",
   "metadata": {},
   "source": [
    "# Discover Insights into Classic Texts"
   ]
  },
  {
   "cell_type": "markdown",
   "id": "34a0bb37",
   "metadata": {},
   "source": [
    "Novels and text contain insights into ideologies and places that are often originally unknown to the reader. By reading a written piece, you uncover the opinions of the author on their chosen topic and come to understand both the topic and how the author thinks.\n",
    "\n",
    "In this project you will perform a natural language parsing analysis to gain deeper insight into one of two famous and often discussed novels in the public domain: <a href=\"http://www.gutenberg.org/ebooks/174\" target=\"_blank\" rel=\"noopener noreferrer\">Oscar Wilde's _The Picture of Dorian Gray_</a> or <a href=\"http://www.gutenberg.org/ebooks/6130\" target=\"_blank\" rel=\"noopener noreferrer\"> Homer's _The Iliad!_</a> Fear not if you haven't heard or read the novels, one of the beauties of natural language parsing with regular expressions is the ability to gain insight into lengthy pieces of text without a formal read!\n",
    "\n",
    "By the end of this project, you will find out the main topics of discussion in the novel of your choosing and can begin to discern some of the author's thoughts and beliefs!"
   ]
  },
  {
   "cell_type": "markdown",
   "id": "dcf3caef",
   "metadata": {},
   "source": [
    "## Import and Preprocess Text Data"
   ]
  },
  {
   "cell_type": "markdown",
   "id": "359007fa",
   "metadata": {},
   "source": [
    "1. Given to you in the downloadable kit are text files for _The Picture of Dorian Gray_, named `dorian_gray.txt`, and _The Iliad_, named `the_iliad.txt`, sourced from <a href=\"https://www.gutenberg.org/\" target=\"_blank\" rel=\"noopener noreferrer\">Project Gutenberg</a>. Import the text of your choosing, convert it to lowercase, and name it `text` using the following line of code.\n",
    "\n",
    "   ```py\n",
    "   text = open(\"_______.txt\",encoding='utf-8').read().lower()\n",
    "   ```\n",
    "   \n",
    "   Replace the blank with the name of the text file for the novel you choose to analyze!"
   ]
  },
  {
   "cell_type": "code",
   "execution_count": 1,
   "id": "b207551d",
   "metadata": {},
   "outputs": [],
   "source": [
    "from nltk import pos_tag, RegexpParser\n",
    "import import_ipynb\n",
    "from tokenize_words import word_sentence_tokenize\n",
    "from chunk_counters import np_chunk_counter, vp_chunk_counter, vp_mod_chunk_counter\n",
    "\n",
    "# import text of choice here\n",
    "text = open(\"the_iliad.txt\",encoding='utf-8').read().lower()"
   ]
  },
  {
   "cell_type": "markdown",
   "id": "0010d6bd",
   "metadata": {},
   "source": [
    "2. With the text imported, now you need to split the text into individual sentences and then individual words. This allows you to perform a sentence-by-sentence parsing analysis!\n",
    "\n",
    "   Provided to you in the downloadable kit is a customized function `word_sentence_tokenize()` that will sentence tokenize a text and then word tokenize each sentence, returning a list of word tokenized sentences. Call the function with `text` as an argument and save the result to a variable named `word_tokenized_text`."
   ]
  },
  {
   "cell_type": "code",
   "execution_count": 2,
   "id": "dc47040c",
   "metadata": {},
   "outputs": [],
   "source": [
    "# sentence and word tokenize text here\n",
    "word_tokenized_text = word_sentence_tokenize(text)"
   ]
  },
  {
   "cell_type": "markdown",
   "id": "11336c02",
   "metadata": {},
   "source": [
    "3. Save any word tokenized sentence in `word_tokenized_text` to a variable named `single_word_tokenized_sentence`. Print `single_word_tokenized_sentence` as a check to visualize what you have done so far!"
   ]
  },
  {
   "cell_type": "code",
   "execution_count": 3,
   "id": "e5ce7fc4",
   "metadata": {},
   "outputs": [
    {
     "name": "stdout",
     "output_type": "stream",
     "text": [
      "['in', 'what', 'ill-fated', 'hour', '(', '43', ')', 'sprung', 'the', 'fierce', 'strife', ',', 'from', 'what', 'offended', 'power', 'latona', \"'s\", 'son', 'a', 'dire', 'contagion', 'spread', ',', '(', '44', ')', 'and', 'heap', \"'d\", 'the', 'camp', 'with', 'mountains', 'of', 'the', 'dead', ';', 'the', 'king', 'of', 'men', 'his', 'reverent', 'priest', 'defied', ',', '(', '45', ')', 'and', 'for', 'the', 'king', \"'s\", 'offence', 'the', 'people', 'died', '.']\n"
     ]
    }
   ],
   "source": [
    "# store and print any word tokenized sentence here\n",
    "my_sentence = word_tokenized_text[647]\n",
    "print(my_sentence)"
   ]
  },
  {
   "cell_type": "markdown",
   "id": "191d1eb1",
   "metadata": {},
   "source": [
    "## Part-of-speech Tag Text"
   ]
  },
  {
   "cell_type": "markdown",
   "id": "9d9e5d1f",
   "metadata": {},
   "source": [
    "4. Next you can part-of-speech tag each sentence to allow for syntax parsing! Begin by creating a list named `pos_tagged_text` that will hold each part-of-speech tagged sentence from the novel."
   ]
  },
  {
   "cell_type": "code",
   "execution_count": 4,
   "id": "0603deee",
   "metadata": {},
   "outputs": [],
   "source": [
    "# create a list to hold part-of-speech tagged sentences here\n",
    "pos_tagged_text = []"
   ]
  },
  {
   "cell_type": "markdown",
   "id": "4e43a24a",
   "metadata": {},
   "source": [
    "5. Loop through each word tokenized sentence in `word_tokenized_text` and part-of-speech tag each sentence using `nltk`'s `pos_tag()` function. Append the result to `pos_tagged_text`."
   ]
  },
  {
   "cell_type": "code",
   "execution_count": 5,
   "id": "b39a4538",
   "metadata": {},
   "outputs": [
    {
     "name": "stdout",
     "output_type": "stream",
     "text": [
      "[('in', 'IN'), ('what', 'WP'), ('ill-fated', 'JJ'), ('hour', 'NN'), ('(', '('), ('43', 'CD'), (')', ')'), ('sprung', 'VBD'), ('the', 'DT'), ('fierce', 'JJ'), ('strife', 'NN'), (',', ','), ('from', 'IN'), ('what', 'WP'), ('offended', 'VBD'), ('power', 'NN'), ('latona', 'NN'), (\"'s\", 'POS'), ('son', 'NN'), ('a', 'DT'), ('dire', 'JJ'), ('contagion', 'NN'), ('spread', 'NN'), (',', ','), ('(', '('), ('44', 'CD'), (')', ')'), ('and', 'CC'), ('heap', 'JJ'), (\"'d\", 'MD'), ('the', 'DT'), ('camp', 'NN'), ('with', 'IN'), ('mountains', 'NNS'), ('of', 'IN'), ('the', 'DT'), ('dead', 'JJ'), (';', ':'), ('the', 'DT'), ('king', 'NN'), ('of', 'IN'), ('men', 'NNS'), ('his', 'PRP$'), ('reverent', 'NN'), ('priest', 'NN'), ('defied', 'VBN'), (',', ','), ('(', '('), ('45', 'CD'), (')', ')'), ('and', 'CC'), ('for', 'IN'), ('the', 'DT'), ('king', 'NN'), (\"'s\", 'POS'), ('offence', 'NN'), ('the', 'DT'), ('people', 'NNS'), ('died', 'VBD'), ('.', '.')]\n"
     ]
    }
   ],
   "source": [
    "# create a for loop through each word tokenized sentence here\n",
    "for sentence in word_tokenized_text:\n",
    "  # part-of-speech tag each sentence and append to list of pos-tagged sentences here\n",
    "    pos_tagged_text.append(pos_tag(sentence))\n",
    "print(pos_tagged_text[647])"
   ]
  },
  {
   "cell_type": "markdown",
   "id": "8205d88f",
   "metadata": {},
   "source": [
    "6. Save any part-of-speech tagged sentence in `pos_tagged_text` to a variable named `single_pos_sentence`. Print `single_pos_sentence` as a check to visualize what you have done so far!"
   ]
  },
  {
   "cell_type": "code",
   "execution_count": 6,
   "id": "8af95d87",
   "metadata": {},
   "outputs": [
    {
     "name": "stdout",
     "output_type": "stream",
     "text": [
      "[('in', 'IN'), ('what', 'WP'), ('ill-fated', 'JJ'), ('hour', 'NN'), ('(', '('), ('43', 'CD'), (')', ')'), ('sprung', 'VBD'), ('the', 'DT'), ('fierce', 'JJ'), ('strife', 'NN'), (',', ','), ('from', 'IN'), ('what', 'WP'), ('offended', 'VBD'), ('power', 'NN'), ('latona', 'NN'), (\"'s\", 'POS'), ('son', 'NN'), ('a', 'DT'), ('dire', 'JJ'), ('contagion', 'NN'), ('spread', 'NN'), (',', ','), ('(', '('), ('44', 'CD'), (')', ')'), ('and', 'CC'), ('heap', 'JJ'), (\"'d\", 'MD'), ('the', 'DT'), ('camp', 'NN'), ('with', 'IN'), ('mountains', 'NNS'), ('of', 'IN'), ('the', 'DT'), ('dead', 'JJ'), (';', ':'), ('the', 'DT'), ('king', 'NN'), ('of', 'IN'), ('men', 'NNS'), ('his', 'PRP$'), ('reverent', 'NN'), ('priest', 'NN'), ('defied', 'VBN'), (',', ','), ('(', '('), ('45', 'CD'), (')', ')'), ('and', 'CC'), ('for', 'IN'), ('the', 'DT'), ('king', 'NN'), (\"'s\", 'POS'), ('offence', 'NN'), ('the', 'DT'), ('people', 'NNS'), ('died', 'VBD'), ('.', '.')]\n"
     ]
    }
   ],
   "source": [
    "# store and print any part-of-speech tagged sentence here\n",
    "single_pos_sentence = pos_tagged_text[647]\n",
    "print(single_pos_sentence)"
   ]
  },
  {
   "cell_type": "markdown",
   "id": "be552549",
   "metadata": {},
   "source": [
    "## Chunk Sentences"
   ]
  },
  {
   "cell_type": "markdown",
   "id": "f50c8554",
   "metadata": {},
   "source": [
    "7. Now that you have part-of-speech tagged your text, you can move on to syntax parsing!\n",
    "\n",
    "   Begin by defining a piece of chunk grammar `np_chunk_grammar` that will chunk a noun phrase. Remember, a noun phrase consists of an optional determiner `DT`, followed by any number of adjectives `JJ`, followed by a noun `NN`."
   ]
  },
  {
   "cell_type": "code",
   "execution_count": 7,
   "id": "c4333ca9",
   "metadata": {},
   "outputs": [],
   "source": [
    "# define noun phrase chunk grammar here\n",
    "np_chunk_grammar = \"NP:{<DT>?<JJ>*<NN>}\""
   ]
  },
  {
   "cell_type": "markdown",
   "id": "1a794295",
   "metadata": {},
   "source": [
    "8. Create a `nltk` `RegexpParser` object named `np_chunk_parser` using the noun phrase chunk grammar you defined as an argument."
   ]
  },
  {
   "cell_type": "code",
   "execution_count": 8,
   "id": "c985dcde",
   "metadata": {},
   "outputs": [],
   "source": [
    "# create noun phrase RegexpParser object here\n",
    "np_chunk_parser = RegexpParser(np_chunk_grammar)"
   ]
  },
  {
   "cell_type": "markdown",
   "id": "7d08787c",
   "metadata": {},
   "source": [
    "9. Define a piece of chunk grammar named `vp_chunk_grammar` that will chunk a verb phrase of the following form: noun phrase, followed by a verb `VB`. followed by an optional adverb `RB`."
   ]
  },
  {
   "cell_type": "code",
   "execution_count": 9,
   "id": "f807a549",
   "metadata": {},
   "outputs": [],
   "source": [
    "# define verb phrase chunk grammar here\n",
    "vp_chunk_grammar = \"VP:{<DT>?<JJ>*<NN><VB.*><RB.?>?}\""
   ]
  },
  {
   "cell_type": "markdown",
   "id": "d553fbb0",
   "metadata": {},
   "source": [
    "10. Create a `nltk` `RegexpParser` object named `vp_chunk_parser` using the verb phrase chunk grammar you defined as an argument."
   ]
  },
  {
   "cell_type": "code",
   "execution_count": 10,
   "id": "8ee7f3bf",
   "metadata": {},
   "outputs": [],
   "source": [
    "# create verb phrase RegexpParser object here\n",
    "vp_chunk_parser = RegexpParser(vp_chunk_grammar)"
   ]
  },
  {
   "cell_type": "markdown",
   "id": "a51341fa",
   "metadata": {},
   "source": [
    "11. Create two empty lists `np_chunked_test` and `vp_chunked_test` that will hold the chunked sentences from your text. "
   ]
  },
  {
   "cell_type": "code",
   "execution_count": 11,
   "id": "047c8383",
   "metadata": {},
   "outputs": [],
   "source": [
    "# create a list to hold noun phrase chunked sentences and a list to hold verb phrase chunked sentences here\n",
    "np_chunked_text, vp_chunked_text = [], []"
   ]
  },
  {
   "cell_type": "markdown",
   "id": "a9cf6425",
   "metadata": {},
   "source": [
    "12. Loop through each part-of-speech tagged sentence in `pos_tagged_text` and noun phrase chunk each sentence using your `RegexpParser`'s `.parse()` method. Append the result to `np_chunked_text`."
   ]
  },
  {
   "cell_type": "code",
   "execution_count": 12,
   "id": "162d0e51",
   "metadata": {},
   "outputs": [],
   "source": [
    "# create a for loop through each pos-tagged sentence here\n",
    "for sentence in pos_tagged_text:\n",
    "  # chunk each sentence and append to list here\n",
    "    np_chunked_text.append(np_chunk_parser.parse(sentence))"
   ]
  },
  {
   "cell_type": "markdown",
   "id": "f3cab095",
   "metadata": {},
   "source": [
    "13. Within the same loop you defined in the previous task, verb phrase chunk each part-of-speech tagged sentence using your `RegexpParser`'s `.parse()` method. Append the result to `vp_chunked_text`."
   ]
  },
  {
   "cell_type": "code",
   "execution_count": 13,
   "id": "a7d0e328",
   "metadata": {},
   "outputs": [],
   "source": [
    "# create a for loop through each pos-tagged sentence here\n",
    "for sentence in pos_tagged_text:\n",
    "  # chunk each sentence and append to lists here\n",
    "    vp_chunked_text.append(vp_chunk_parser.parse(sentence))"
   ]
  },
  {
   "cell_type": "markdown",
   "id": "2ade8062",
   "metadata": {},
   "source": [
    "## Analyze Chunks"
   ]
  },
  {
   "cell_type": "markdown",
   "id": "f4213383",
   "metadata": {},
   "source": [
    "14. Now that you have chunked your novel, you can analyze the chunk frequencies to gain insights!\n",
    "\n",
    "    A function `np_chunk_counter()` that returns the `30` most common NP-chunks from a list of chunked sentences has been imported for you in the code block for task 1. Call `np_chunk_counter()` with `np_chunked_text` as an argument and save the result to a variable named `most_common_np_chunks`. Print `most_common_np_chunks`. What sticks out to you about the most common noun phrase chunks? Are you surprised by anything? Open **Discover Insights into Classic Texts_Solution.ipynb** to see our analysis.\n",
    "    \n",
    "    Want to see how `np_chunk_counter()` works? Open **chunk_counters.ipynb** from the kit you downloaded and inspect `np_chunk_counter()`."
   ]
  },
  {
   "cell_type": "code",
   "execution_count": 14,
   "id": "17916ab2",
   "metadata": {},
   "outputs": [
    {
     "name": "stdout",
     "output_type": "stream",
     "text": [
      "((('hector', 'NN'),), 323)\n",
      "((('i', 'NN'),), 277)\n",
      "((('jove', 'NN'),), 257)\n",
      "((('troy', 'NN'),), 208)\n",
      "((('vain', 'NN'),), 195)\n",
      "((('war', 'NN'),), 193)\n",
      "((('son', 'NN'),), 170)\n",
      "((('thou', 'NN'),), 158)\n",
      "((('the', 'DT'), ('plain', 'NN')), 157)\n",
      "((('the', 'DT'), ('field', 'NN')), 154)\n",
      "((('the', 'DT'), ('ground', 'NN')), 138)\n",
      "((('death', 'NN'),), 134)\n",
      "((('hand', 'NN'),), 134)\n",
      "((('greece', 'NN'),), 128)\n",
      "((('heaven', 'NN'),), 127)\n",
      "((('fate', 'NN'),), 127)\n",
      "((('breast', 'NN'),), 122)\n",
      "((('thee', 'NN'),), 122)\n",
      "((('the', 'DT'), ('trojan', 'NN')), 120)\n",
      "((('the', 'DT'), ('god', 'NN')), 119)\n",
      "((('the', 'DT'), ('greeks', 'NN')), 117)\n",
      "((('the', 'DT'), ('war', 'NN')), 117)\n",
      "((('blood', 'NN'),), 115)\n",
      "((('homer', 'NN'),), 112)\n",
      "((('the', 'DT'), ('king', 'NN')), 105)\n",
      "((('rage', 'NN'),), 103)\n",
      "((('force', 'NN'),), 103)\n",
      "((('care', 'NN'),), 99)\n",
      "((('head', 'NN'),), 98)\n",
      "((('man', 'NN'),), 97)\n"
     ]
    }
   ],
   "source": [
    "# store and print the most common NP-chunks here\n",
    "most_common_np_chunk = np_chunk_counter(np_chunked_text)\n",
    "for np in most_common_np_chunk:\n",
    "    print(np)"
   ]
  },
  {
   "cell_type": "markdown",
   "id": "db89a4b7",
   "metadata": {},
   "source": [
    "15. A function `vp_chunk_counter()` that returns the `30` most common VP-chunks from a list of chunked sentences has been imported for you in the code block for task 1. Call `vp_chunk_counter()` with `vp_chunked_text` as an argument and save the result to a variable named `most_common_vp_chunks`. Print `most_common_vp_chunks`. What sticks out to you about the most common verb phrase chunks? Are you surprised by anything? Open **Discover Insights into Classic Texts_Solution.ipynb** to see our analysis.\n",
    "\n",
    "    Want to see how `vp_chunk_counter()` works? Open **chunk_counters.ipynb** from the kit you downloaded and inspect `np_chunk_counter()`."
   ]
  },
  {
   "cell_type": "code",
   "execution_count": 15,
   "id": "9cfdc4ec",
   "metadata": {},
   "outputs": [
    {
     "name": "stdout",
     "output_type": "stream",
     "text": [
      "(((\"'t\", 'NN'), ('is', 'VBZ')), 19)\n",
      "((('i', 'NN'), ('am', 'VBP')), 11)\n",
      "(((\"'t\", 'NN'), ('was', 'VBD')), 11)\n",
      "((('the', 'DT'), ('hero', 'NN'), ('said', 'VBD')), 9)\n",
      "((('i', 'NN'), ('know', 'VBP')), 8)\n",
      "((('i', 'NN'), ('saw', 'VBD')), 8)\n",
      "((('the', 'DT'), ('scene', 'NN'), ('lies', 'VBZ')), 7)\n",
      "((('i', 'NN'), ('was', 'VBD')), 6)\n",
      "((('view', 'NN'), (\"'d\", 'VBD')), 6)\n",
      "((('confess', 'NN'), (\"'d\", 'VBD')), 6)\n",
      "((('the', 'DT'), ('scene', 'NN'), ('is', 'VBZ')), 6)\n",
      "((('i', 'NN'), ('felt', 'VBD')), 5)\n",
      "((('i', 'NN'), ('bear', 'VBP')), 5)\n",
      "((('press', 'NN'), (\"'d\", 'VBD')), 5)\n",
      "((('hector', 'NN'), ('is', 'VBZ')), 5)\n",
      "((('vain', 'NN'), ('was', 'VBD')), 5)\n",
      "((('homer', 'NN'), ('was', 'VBD')), 4)\n",
      "((('i', 'NN'), ('have', 'VBP')), 4)\n",
      "((('hunger', 'NN'), ('was', 'VBD')), 4)\n",
      "((('glory', 'NN'), ('lost', 'VBN')), 4)\n",
      "((('i', 'NN'), ('see', 'VBP')), 4)\n",
      "((('war', 'NN'), ('be', 'VB')), 4)\n",
      "((('the', 'DT'), ('weapon', 'NN'), ('stood', 'VBD')), 4)\n",
      "((('i', 'NN'), ('go', 'VBP')), 4)\n",
      "((('the', 'DT'), ('silence', 'NN'), ('broke', 'VBD')), 4)\n",
      "((('the', 'DT'), ('trojan', 'NN'), ('bands', 'VBZ')), 4)\n",
      "((('father', 'NN'), ('gave', 'VBD')), 4)\n",
      "((('i', 'NN'), ('deem', 'VBP')), 4)\n",
      "((('minerva', 'NN'), ('repressing', 'VBG')), 3)\n",
      "((('thetis', 'NN'), ('calling', 'VBG')), 3)\n"
     ]
    }
   ],
   "source": [
    "# store and print the most common VP-chunks here\n",
    "most_common_vp_chunks = vp_chunk_counter(vp_chunked_text)\n",
    "for vp in most_common_vp_chunks:\n",
    "    print(vp)"
   ]
  },
  {
   "cell_type": "markdown",
   "id": "883a9005",
   "metadata": {},
   "source": [
    "## Go Further On Your Own!"
   ]
  },
  {
   "cell_type": "markdown",
   "id": "b125650e",
   "metadata": {},
   "source": [
    "16. Amazing! You have performed a syntax parsing analysis on a novel and gained insight into both the meaning of the text and how the author thinks, without reading a page!\n",
    "\n",
    "    Now's your chance to get creative. Is there a different pattern of parts-of-speech you want to identify and count in the novel you selected? Add a new piece of chunk grammar and repeat the process of chunking. What do you find?"
   ]
  },
  {
   "cell_type": "code",
   "execution_count": 20,
   "id": "7cccd176",
   "metadata": {},
   "outputs": [
    {
     "name": "stdout",
     "output_type": "stream",
     "text": [
      "((('the', 'DT'), ('hero', 'NN'), ('said', 'VBD')), 9)\n",
      "((('the', 'DT'), ('scene', 'NN'), ('lies', 'VBZ')), 7)\n",
      "((('the', 'DT'), ('scene', 'NN'), ('is', 'VBZ')), 6)\n",
      "((('the', 'DT'), ('weapon', 'NN'), ('stood', 'VBD')), 4)\n",
      "((('the', 'DT'), ('silence', 'NN'), ('broke', 'VBD')), 4)\n",
      "((('the', 'DT'), ('trojan', 'NN'), ('bands', 'VBZ')), 4)\n",
      "((('the', 'DT'), ('homeric', 'JJ'), ('question', 'NN'), ('is', 'VBZ')), 3)\n",
      "((('the', 'DT'), ('greeks', 'NN'), ('having', 'VBG')), 3)\n",
      "((('a', 'DT'), ('goddess', 'NN'), ('born', 'VBN')), 3)\n",
      "((('the', 'DT'), ('monarch', 'NN'), ('spoke', 'VBD')), 3)\n",
      "((('the', 'DT'), ('same', 'JJ'), ('day', 'NN'), ('continues', 'VBZ')), 3)\n",
      "((('the', 'DT'), ('sounding', 'NN'), ('hinges', 'VBZ')), 3)\n",
      "((('the', 'DT'), ('author', 'NN'), ('is', 'VBZ')), 2)\n",
      "((('the', 'DT'), ('reader', 'NN'), ('is', 'VBZ')), 2)\n",
      "((('the', 'DT'), ('bounding', 'NN'), ('billows', 'VBZ')), 2)\n",
      "((('the', 'DT'), ('thunderer', 'NN'), ('spoke', 'VBD')), 2)\n",
      "((('the', 'DT'), ('phantom', 'NN'), ('said', 'VBD')), 2)\n",
      "((('a', 'DT'), ('safe', 'JJ'), ('return', 'NN'), ('was', 'VBD')), 2)\n",
      "((('the', 'DT'), ('trembling', 'NN'), ('shores', 'VBZ')), 2)\n",
      "((('the', 'DT'), ('trojan', 'NN'), ('troops', 'VBZ')), 2)\n",
      "((('the', 'DT'), ('monarch', 'NN'), ('cried', 'VBD')), 2)\n",
      "((('the', 'DT'), ('godlike', 'NN'), ('diomed', 'VBD')), 2)\n",
      "((('the', 'DT'), ('slaughter', 'NN'), ('led', 'VBD')), 2)\n",
      "((('the', 'DT'), ('brazen', 'JJ'), ('weapon', 'NN'), ('lies', 'VBZ')), 2)\n",
      "((('the', 'DT'), ('victor', 'NN'), ('lies', 'VBZ')), 2)\n",
      "((('the', 'DT'), ('spirit', 'NN'), ('wings', 'VBZ')), 2)\n",
      "((('the', 'DT'), ('foe', 'NN'), ('came', 'VBD')), 2)\n",
      "((('the', 'DT'), ('brave', 'NN'), ('live', 'VBP')), 2)\n",
      "((('the', 'DT'), ('word', 'NN'), ('was', 'VBD')), 2)\n",
      "((('the', 'DT'), ('night', 'NN'), ('extends', 'VBZ')), 2)\n"
     ]
    }
   ],
   "source": [
    "# trying out the verb phrases but making DT and RB mandatory\n",
    "vp_mod_chunk_grammar = \"VP_mod:{<DT><JJ>*<NN><VB.*><RB.?>?}\"\n",
    "vp_mod_chunk_parser = RegexpParser(vp_mod_chunk_grammar)\n",
    "\n",
    "vp_mod_chunked_text = []\n",
    "for sentence in pos_tagged_text:\n",
    "    vp_mod_chunked_text.append(vp_mod_chunk_parser.parse(sentence))\n",
    "\n",
    "most_common_vp_mod = vp_mod_chunk_counter(vp_mod_chunked_text)\n",
    "for vp_mod in most_common_vp_mod:\n",
    "    print(vp_mod)"
   ]
  },
  {
   "cell_type": "markdown",
   "id": "66288d6d",
   "metadata": {},
   "source": [
    "17. Not the biggest fan of _The Picture of Dorian Gray_ or _The Iliad_? No worries! Included in the downloadable kit is a blank text file named `my_text.txt`. Open the file and copy any text of your choice (novel, script, article, etc.) into the file. Save the file and then return to this file (**Discover Insights into Classic Texts.ipynb**). Update the opened text file to `my_text.txt` and rerun this notebook to perform a syntax parsing analysis on your text! What insights or deeper meanings did you discover?"
   ]
  },
  {
   "cell_type": "code",
   "execution_count": null,
   "id": "c2a960ce",
   "metadata": {},
   "outputs": [],
   "source": []
  }
 ],
 "metadata": {
  "kernelspec": {
   "display_name": "Python 3 (ipykernel)",
   "language": "python",
   "name": "python3"
  },
  "language_info": {
   "codemirror_mode": {
    "name": "ipython",
    "version": 3
   },
   "file_extension": ".py",
   "mimetype": "text/x-python",
   "name": "python",
   "nbconvert_exporter": "python",
   "pygments_lexer": "ipython3",
   "version": "3.11.7"
  }
 },
 "nbformat": 4,
 "nbformat_minor": 5
}
