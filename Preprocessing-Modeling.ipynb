{
 "cells": [
  {
   "cell_type": "code",
   "execution_count": 1,
   "id": "f8036c7b-a96a-48c0-a407-dab97ee3ce86",
   "metadata": {},
   "outputs": [],
   "source": [
    "# Probability of default is the liklihood that someone will default on a loan\n",
    "# it is a value between 0 and 1 - high value indicates they are more likely to default\n",
    "# Loan status of 0 is no default and 1 is default\n",
    "\n",
    "# logistic Regression and Decision trees will be used"
   ]
  },
  {
   "cell_type": "code",
   "execution_count": 27,
   "id": "696e6970-22f5-43b2-9a7f-545df970f3c3",
   "metadata": {},
   "outputs": [],
   "source": [
    "import pandas as pd\n",
    "import matplotlib.pyplot as plt\n",
    "from sklearn.linear_model import LogisticRegression\n",
    "from sklearn.model_selection import train_test_split\n",
    "from sklearn.metrics import roc_curve, classification_report, precision_recall_fscore_support, roc_auc_score"
   ]
  },
  {
   "cell_type": "code",
   "execution_count": 3,
   "id": "83dbb0c1-5afb-42d3-928d-9ae6d84e2f86",
   "metadata": {},
   "outputs": [],
   "source": [
    "df = pd.read_csv('credit_risk_dataset_clean.csv')"
   ]
  },
  {
   "cell_type": "code",
   "execution_count": 4,
   "id": "5ec7de61-cef9-47cf-b8a9-9f49cc4c2344",
   "metadata": {},
   "outputs": [
    {
     "data": {
      "text/plain": [
       "False"
      ]
     },
     "execution_count": 4,
     "metadata": {},
     "output_type": "execute_result"
    }
   ],
   "source": [
    "df.isna().sum().any()"
   ]
  },
  {
   "cell_type": "code",
   "execution_count": 5,
   "id": "d751a865-9fc6-43bc-bd32-ba9284f3f13f",
   "metadata": {},
   "outputs": [
    {
     "data": {
      "text/html": [
       "<div>\n",
       "<style scoped>\n",
       "    .dataframe tbody tr th:only-of-type {\n",
       "        vertical-align: middle;\n",
       "    }\n",
       "\n",
       "    .dataframe tbody tr th {\n",
       "        vertical-align: top;\n",
       "    }\n",
       "\n",
       "    .dataframe thead th {\n",
       "        text-align: right;\n",
       "    }\n",
       "</style>\n",
       "<table border=\"1\" class=\"dataframe\">\n",
       "  <thead>\n",
       "    <tr style=\"text-align: right;\">\n",
       "      <th></th>\n",
       "      <th>person_age</th>\n",
       "      <th>person_income</th>\n",
       "      <th>person_home_ownership</th>\n",
       "      <th>person_emp_length</th>\n",
       "      <th>loan_intent</th>\n",
       "      <th>loan_grade</th>\n",
       "      <th>loan_amnt</th>\n",
       "      <th>loan_int_rate</th>\n",
       "      <th>loan_status</th>\n",
       "      <th>loan_percent_income</th>\n",
       "      <th>cb_person_default_on_file</th>\n",
       "      <th>cb_person_cred_hist_length</th>\n",
       "    </tr>\n",
       "  </thead>\n",
       "  <tbody>\n",
       "    <tr>\n",
       "      <th>0</th>\n",
       "      <td>21</td>\n",
       "      <td>9600</td>\n",
       "      <td>OWN</td>\n",
       "      <td>5.0</td>\n",
       "      <td>EDUCATION</td>\n",
       "      <td>B</td>\n",
       "      <td>1000</td>\n",
       "      <td>11.14</td>\n",
       "      <td>0</td>\n",
       "      <td>0.10</td>\n",
       "      <td>N</td>\n",
       "      <td>2</td>\n",
       "    </tr>\n",
       "    <tr>\n",
       "      <th>1</th>\n",
       "      <td>25</td>\n",
       "      <td>9600</td>\n",
       "      <td>MORTGAGE</td>\n",
       "      <td>1.0</td>\n",
       "      <td>MEDICAL</td>\n",
       "      <td>C</td>\n",
       "      <td>5500</td>\n",
       "      <td>12.87</td>\n",
       "      <td>1</td>\n",
       "      <td>0.57</td>\n",
       "      <td>N</td>\n",
       "      <td>3</td>\n",
       "    </tr>\n",
       "    <tr>\n",
       "      <th>2</th>\n",
       "      <td>23</td>\n",
       "      <td>65500</td>\n",
       "      <td>RENT</td>\n",
       "      <td>4.0</td>\n",
       "      <td>MEDICAL</td>\n",
       "      <td>C</td>\n",
       "      <td>35000</td>\n",
       "      <td>15.23</td>\n",
       "      <td>1</td>\n",
       "      <td>0.53</td>\n",
       "      <td>N</td>\n",
       "      <td>2</td>\n",
       "    </tr>\n",
       "    <tr>\n",
       "      <th>3</th>\n",
       "      <td>24</td>\n",
       "      <td>54400</td>\n",
       "      <td>RENT</td>\n",
       "      <td>8.0</td>\n",
       "      <td>MEDICAL</td>\n",
       "      <td>C</td>\n",
       "      <td>35000</td>\n",
       "      <td>14.27</td>\n",
       "      <td>1</td>\n",
       "      <td>0.55</td>\n",
       "      <td>Y</td>\n",
       "      <td>4</td>\n",
       "    </tr>\n",
       "    <tr>\n",
       "      <th>4</th>\n",
       "      <td>21</td>\n",
       "      <td>9900</td>\n",
       "      <td>OWN</td>\n",
       "      <td>2.0</td>\n",
       "      <td>VENTURE</td>\n",
       "      <td>A</td>\n",
       "      <td>2500</td>\n",
       "      <td>7.14</td>\n",
       "      <td>1</td>\n",
       "      <td>0.25</td>\n",
       "      <td>N</td>\n",
       "      <td>2</td>\n",
       "    </tr>\n",
       "  </tbody>\n",
       "</table>\n",
       "</div>"
      ],
      "text/plain": [
       "   person_age  person_income person_home_ownership  person_emp_length  \\\n",
       "0          21           9600                   OWN                5.0   \n",
       "1          25           9600              MORTGAGE                1.0   \n",
       "2          23          65500                  RENT                4.0   \n",
       "3          24          54400                  RENT                8.0   \n",
       "4          21           9900                   OWN                2.0   \n",
       "\n",
       "  loan_intent loan_grade  loan_amnt  loan_int_rate  loan_status  \\\n",
       "0   EDUCATION          B       1000          11.14            0   \n",
       "1     MEDICAL          C       5500          12.87            1   \n",
       "2     MEDICAL          C      35000          15.23            1   \n",
       "3     MEDICAL          C      35000          14.27            1   \n",
       "4     VENTURE          A       2500           7.14            1   \n",
       "\n",
       "   loan_percent_income cb_person_default_on_file  cb_person_cred_hist_length  \n",
       "0                 0.10                         N                           2  \n",
       "1                 0.57                         N                           3  \n",
       "2                 0.53                         N                           2  \n",
       "3                 0.55                         Y                           4  \n",
       "4                 0.25                         N                           2  "
      ]
     },
     "execution_count": 5,
     "metadata": {},
     "output_type": "execute_result"
    }
   ],
   "source": [
    "df.head()"
   ]
  },
  {
   "cell_type": "code",
   "execution_count": 6,
   "id": "0b93f823-64cc-4a82-81e1-becfa8beed0b",
   "metadata": {},
   "outputs": [],
   "source": [
    "# creating dummy variables\n",
    "df = pd.get_dummies(df)"
   ]
  },
  {
   "cell_type": "code",
   "execution_count": 7,
   "id": "5bbb01a4-e4cd-4a55-92c1-fc6531d6f025",
   "metadata": {},
   "outputs": [
    {
     "name": "stdout",
     "output_type": "stream",
     "text": [
      "person_age\n",
      "person_income\n",
      "person_emp_length\n",
      "loan_amnt\n",
      "loan_int_rate\n",
      "loan_status\n",
      "loan_percent_income\n",
      "cb_person_cred_hist_length\n",
      "person_home_ownership_MORTGAGE\n",
      "person_home_ownership_OTHER\n",
      "person_home_ownership_OWN\n",
      "person_home_ownership_RENT\n",
      "loan_intent_DEBTCONSOLIDATION\n",
      "loan_intent_EDUCATION\n",
      "loan_intent_HOMEIMPROVEMENT\n",
      "loan_intent_MEDICAL\n",
      "loan_intent_PERSONAL\n",
      "loan_intent_VENTURE\n",
      "loan_grade_A\n",
      "loan_grade_B\n",
      "loan_grade_C\n",
      "loan_grade_D\n",
      "loan_grade_E\n",
      "loan_grade_F\n",
      "loan_grade_G\n",
      "cb_person_default_on_file_N\n",
      "cb_person_default_on_file_Y\n"
     ]
    }
   ],
   "source": [
    "# checking that dummy variable creation worked\n",
    "for column in df.columns:\n",
    "    print(column)"
   ]
  },
  {
   "cell_type": "code",
   "execution_count": 8,
   "id": "d0bec5c5-5645-404e-83c9-9ad99a7c0b75",
   "metadata": {},
   "outputs": [],
   "source": [
    "# Predictor X is all of our features used to predict y, our loan status target variable\n",
    "feature_variables = df.drop('loan_status', axis=1).columns\n",
    "X = df.drop('loan_status', axis=1).values\n",
    "y = df['loan_status'].values"
   ]
  },
  {
   "cell_type": "code",
   "execution_count": 9,
   "id": "cb370704-7bd5-46c5-ba8f-b1a1742ca115",
   "metadata": {},
   "outputs": [],
   "source": [
    "X_train, X_test, y_train, y_test = train_test_split(X, y, test_size=0.3)"
   ]
  },
  {
   "cell_type": "code",
   "execution_count": 10,
   "id": "66d0100c-5d3c-4d28-9126-b1a41d35e15b",
   "metadata": {},
   "outputs": [
    {
     "data": {
      "text/html": [
       "<style>#sk-container-id-1 {color: black;background-color: white;}#sk-container-id-1 pre{padding: 0;}#sk-container-id-1 div.sk-toggleable {background-color: white;}#sk-container-id-1 label.sk-toggleable__label {cursor: pointer;display: block;width: 100%;margin-bottom: 0;padding: 0.3em;box-sizing: border-box;text-align: center;}#sk-container-id-1 label.sk-toggleable__label-arrow:before {content: \"▸\";float: left;margin-right: 0.25em;color: #696969;}#sk-container-id-1 label.sk-toggleable__label-arrow:hover:before {color: black;}#sk-container-id-1 div.sk-estimator:hover label.sk-toggleable__label-arrow:before {color: black;}#sk-container-id-1 div.sk-toggleable__content {max-height: 0;max-width: 0;overflow: hidden;text-align: left;background-color: #f0f8ff;}#sk-container-id-1 div.sk-toggleable__content pre {margin: 0.2em;color: black;border-radius: 0.25em;background-color: #f0f8ff;}#sk-container-id-1 input.sk-toggleable__control:checked~div.sk-toggleable__content {max-height: 200px;max-width: 100%;overflow: auto;}#sk-container-id-1 input.sk-toggleable__control:checked~label.sk-toggleable__label-arrow:before {content: \"▾\";}#sk-container-id-1 div.sk-estimator input.sk-toggleable__control:checked~label.sk-toggleable__label {background-color: #d4ebff;}#sk-container-id-1 div.sk-label input.sk-toggleable__control:checked~label.sk-toggleable__label {background-color: #d4ebff;}#sk-container-id-1 input.sk-hidden--visually {border: 0;clip: rect(1px 1px 1px 1px);clip: rect(1px, 1px, 1px, 1px);height: 1px;margin: -1px;overflow: hidden;padding: 0;position: absolute;width: 1px;}#sk-container-id-1 div.sk-estimator {font-family: monospace;background-color: #f0f8ff;border: 1px dotted black;border-radius: 0.25em;box-sizing: border-box;margin-bottom: 0.5em;}#sk-container-id-1 div.sk-estimator:hover {background-color: #d4ebff;}#sk-container-id-1 div.sk-parallel-item::after {content: \"\";width: 100%;border-bottom: 1px solid gray;flex-grow: 1;}#sk-container-id-1 div.sk-label:hover label.sk-toggleable__label {background-color: #d4ebff;}#sk-container-id-1 div.sk-serial::before {content: \"\";position: absolute;border-left: 1px solid gray;box-sizing: border-box;top: 0;bottom: 0;left: 50%;z-index: 0;}#sk-container-id-1 div.sk-serial {display: flex;flex-direction: column;align-items: center;background-color: white;padding-right: 0.2em;padding-left: 0.2em;position: relative;}#sk-container-id-1 div.sk-item {position: relative;z-index: 1;}#sk-container-id-1 div.sk-parallel {display: flex;align-items: stretch;justify-content: center;background-color: white;position: relative;}#sk-container-id-1 div.sk-item::before, #sk-container-id-1 div.sk-parallel-item::before {content: \"\";position: absolute;border-left: 1px solid gray;box-sizing: border-box;top: 0;bottom: 0;left: 50%;z-index: -1;}#sk-container-id-1 div.sk-parallel-item {display: flex;flex-direction: column;z-index: 1;position: relative;background-color: white;}#sk-container-id-1 div.sk-parallel-item:first-child::after {align-self: flex-end;width: 50%;}#sk-container-id-1 div.sk-parallel-item:last-child::after {align-self: flex-start;width: 50%;}#sk-container-id-1 div.sk-parallel-item:only-child::after {width: 0;}#sk-container-id-1 div.sk-dashed-wrapped {border: 1px dashed gray;margin: 0 0.4em 0.5em 0.4em;box-sizing: border-box;padding-bottom: 0.4em;background-color: white;}#sk-container-id-1 div.sk-label label {font-family: monospace;font-weight: bold;display: inline-block;line-height: 1.2em;}#sk-container-id-1 div.sk-label-container {text-align: center;}#sk-container-id-1 div.sk-container {/* jupyter's `normalize.less` sets `[hidden] { display: none; }` but bootstrap.min.css set `[hidden] { display: none !important; }` so we also need the `!important` here to be able to override the default hidden behavior on the sphinx rendered scikit-learn.org. See: https://github.com/scikit-learn/scikit-learn/issues/21755 */display: inline-block !important;position: relative;}#sk-container-id-1 div.sk-text-repr-fallback {display: none;}</style><div id=\"sk-container-id-1\" class=\"sk-top-container\"><div class=\"sk-text-repr-fallback\"><pre>LogisticRegression()</pre><b>In a Jupyter environment, please rerun this cell to show the HTML representation or trust the notebook. <br />On GitHub, the HTML representation is unable to render, please try loading this page with nbviewer.org.</b></div><div class=\"sk-container\" hidden><div class=\"sk-item\"><div class=\"sk-estimator sk-toggleable\"><input class=\"sk-toggleable__control sk-hidden--visually\" id=\"sk-estimator-id-1\" type=\"checkbox\" checked><label for=\"sk-estimator-id-1\" class=\"sk-toggleable__label sk-toggleable__label-arrow\">LogisticRegression</label><div class=\"sk-toggleable__content\"><pre>LogisticRegression()</pre></div></div></div></div></div>"
      ],
      "text/plain": [
       "LogisticRegression()"
      ]
     },
     "execution_count": 10,
     "metadata": {},
     "output_type": "execute_result"
    }
   ],
   "source": [
    "log_reg = LogisticRegression()\n",
    "log_reg.fit(X_train,y_train)"
   ]
  },
  {
   "cell_type": "code",
   "execution_count": 11,
   "id": "7d53d184-7125-4006-8ba7-89c1ff31ab4b",
   "metadata": {},
   "outputs": [],
   "source": [
    "# making predictions\n",
    "pred_prob = log_reg.predict_proba(X_test)\n",
    "df_probs = pd.DataFrame(pred_prob,columns = ['prob_non_default','prob_default'])\n",
    "df_probs['loan_status_pred'] = df_probs['prob_default'].apply(lambda x: 1 if x >= 0.5 else 0)\n",
    "df_probs['loan_status_actual'] = y_test"
   ]
  },
  {
   "cell_type": "code",
   "execution_count": 12,
   "id": "f3f645c2-76bf-456b-a83e-dbb25ece5cb1",
   "metadata": {},
   "outputs": [
    {
     "data": {
      "text/html": [
       "<div>\n",
       "<style scoped>\n",
       "    .dataframe tbody tr th:only-of-type {\n",
       "        vertical-align: middle;\n",
       "    }\n",
       "\n",
       "    .dataframe tbody tr th {\n",
       "        vertical-align: top;\n",
       "    }\n",
       "\n",
       "    .dataframe thead th {\n",
       "        text-align: right;\n",
       "    }\n",
       "</style>\n",
       "<table border=\"1\" class=\"dataframe\">\n",
       "  <thead>\n",
       "    <tr style=\"text-align: right;\">\n",
       "      <th></th>\n",
       "      <th>prob_non_default</th>\n",
       "      <th>prob_default</th>\n",
       "      <th>loan_status_pred</th>\n",
       "      <th>loan_status_actual</th>\n",
       "    </tr>\n",
       "  </thead>\n",
       "  <tbody>\n",
       "    <tr>\n",
       "      <th>0</th>\n",
       "      <td>0.526997</td>\n",
       "      <td>0.473003</td>\n",
       "      <td>0</td>\n",
       "      <td>1</td>\n",
       "    </tr>\n",
       "    <tr>\n",
       "      <th>1</th>\n",
       "      <td>0.843998</td>\n",
       "      <td>0.156002</td>\n",
       "      <td>0</td>\n",
       "      <td>0</td>\n",
       "    </tr>\n",
       "    <tr>\n",
       "      <th>2</th>\n",
       "      <td>0.775343</td>\n",
       "      <td>0.224657</td>\n",
       "      <td>0</td>\n",
       "      <td>0</td>\n",
       "    </tr>\n",
       "    <tr>\n",
       "      <th>3</th>\n",
       "      <td>0.826304</td>\n",
       "      <td>0.173696</td>\n",
       "      <td>0</td>\n",
       "      <td>0</td>\n",
       "    </tr>\n",
       "    <tr>\n",
       "      <th>4</th>\n",
       "      <td>0.439802</td>\n",
       "      <td>0.560198</td>\n",
       "      <td>1</td>\n",
       "      <td>1</td>\n",
       "    </tr>\n",
       "  </tbody>\n",
       "</table>\n",
       "</div>"
      ],
      "text/plain": [
       "   prob_non_default  prob_default  loan_status_pred  loan_status_actual\n",
       "0          0.526997      0.473003                 0                   1\n",
       "1          0.843998      0.156002                 0                   0\n",
       "2          0.775343      0.224657                 0                   0\n",
       "3          0.826304      0.173696                 0                   0\n",
       "4          0.439802      0.560198                 1                   1"
      ]
     },
     "execution_count": 12,
     "metadata": {},
     "output_type": "execute_result"
    }
   ],
   "source": [
    "df_probs.head()"
   ]
  },
  {
   "cell_type": "code",
   "execution_count": 13,
   "id": "affad4ef-a3b0-41d4-aa1b-f3ae2e9d42d1",
   "metadata": {},
   "outputs": [
    {
     "data": {
      "text/plain": [
       "0.8047729918509895"
      ]
     },
     "execution_count": 13,
     "metadata": {},
     "output_type": "execute_result"
    }
   ],
   "source": [
    "# Checking Accuracy of model\n",
    "log_reg.score(X_test,y_test)"
   ]
  },
  {
   "cell_type": "code",
   "execution_count": 28,
   "id": "ecc6fe4b-5e1f-46ef-a4e1-3ee74a2d4932",
   "metadata": {},
   "outputs": [
    {
     "data": {
      "image/png": "[encoded data removed]",
      "text/plain": [
       "<Figure size 640x480 with 1 Axes>"
      ]
     },
     "metadata": {},
     "output_type": "display_data"
    }
   ],
   "source": [
    "# Plotting ROC curve\n",
    "fpr, tpr, thresholds = roc_curve(y_test, df_probs['prob_default'].values)\n",
    "plt.plot(fpr, tpr)\n",
    "plt.title('ROC Curve for loan default prediction')\n",
    "plt.xlabel('False Positive Rate')\n",
    "plt.ylabel('True Positive Rate')\n",
    "plt.plot([0,1],[0,1],'k--', alpha=0.5)\n",
    "plt.show()"
   ]
  },
  {
   "cell_type": "code",
   "execution_count": 30,
   "id": "758d35a1-04cf-480e-89fb-8c791279f42c",
   "metadata": {},
   "outputs": [
    {
     "name": "stdout",
     "output_type": "stream",
     "text": [
      "0.7640737634318313\n"
     ]
    }
   ],
   "source": [
    "# Getting the AUC score - area under the curve\n",
    "print(roc_auc_score(y_test, df_probs['prob_default'].values))"
   ]
  },
  {
   "cell_type": "code",
   "execution_count": 23,
   "id": "05b328c3-b233-4eca-91b9-23a2a5d1783f",
   "metadata": {},
   "outputs": [
    {
     "name": "stdout",
     "output_type": "stream",
     "text": [
      "              precision    recall  f1-score   support\n",
      "\n",
      " non-default       0.81      0.98      0.89      6718\n",
      "     default       0.74      0.16      0.27      1872\n",
      "\n",
      "    accuracy                           0.80      8590\n",
      "   macro avg       0.77      0.57      0.58      8590\n",
      "weighted avg       0.79      0.80      0.75      8590\n",
      "\n"
     ]
    }
   ],
   "source": [
    "print(classification_report(df_probs['loan_status_actual'], df_probs['loan_status_pred'], target_names=['non-default','default']))"
   ]
  },
  {
   "cell_type": "code",
   "execution_count": 26,
   "id": "ed72ff4e-f6ca-4a08-97cc-53df590bd69f",
   "metadata": {},
   "outputs": [
    {
     "name": "stdout",
     "output_type": "stream",
     "text": [
      "0.16185897435897437\n"
     ]
    }
   ],
   "source": [
    "# you can select an individual value from the classification report by using this:\n",
    "recall_default = precision_recall_fscore_support(df_probs['loan_status_actual'], df_probs['loan_status_pred'])[1][1]\n",
    "print(recall_default)\n",
    "#[1][1] is the location of the value in our report ^"
   ]
  },
  {
   "cell_type": "code",
   "execution_count": 15,
   "id": "11f2e89e-7120-4ed1-a1d8-5301fed9eea5",
   "metadata": {},
   "outputs": [
    {
     "name": "stdout",
     "output_type": "stream",
     "text": [
      "Feature: person_age\n",
      "Coeff:   -6.279900864382246e-08\n",
      "\n",
      "Feature: person_income\n",
      "Coeff:   -4.042796744404869e-05\n",
      "\n",
      "Feature: person_emp_length\n",
      "Coeff:   -3.026582350713029e-08\n",
      "\n",
      "Feature: loan_amnt\n",
      "Coeff:   0.00010608180977813583\n",
      "\n",
      "Feature: loan_int_rate\n",
      "Coeff:   9.070707536142126e-08\n",
      "\n",
      "Feature: loan_percent_income\n",
      "Coeff:   2.5089761584139118e-09\n",
      "\n",
      "Feature: cb_person_cred_hist_length\n",
      "Coeff:   -1.0028858237964996e-08\n",
      "\n",
      "Feature: person_home_ownership_MORTGAGE\n",
      "Coeff:   -6.505065097140212e-09\n",
      "\n",
      "Feature: person_home_ownership_OTHER\n",
      "Coeff:   5.74798529698124e-11\n",
      "\n",
      "Feature: person_home_ownership_OWN\n",
      "Coeff:   -3.9381750627251e-09\n",
      "\n",
      "Feature: person_home_ownership_RENT\n",
      "Coeff:   7.873350323089441e-09\n",
      "\n",
      "Feature: loan_intent_DEBTCONSOLIDATION\n",
      "Coeff:   2.2809547873105688e-09\n",
      "\n",
      "Feature: loan_intent_EDUCATION\n",
      "Coeff:   -2.9024219097198323e-09\n",
      "\n",
      "Feature: loan_intent_HOMEIMPROVEMENT\n",
      "Coeff:   1.5187873339140619e-09\n",
      "\n",
      "Feature: loan_intent_MEDICAL\n",
      "Coeff:   1.5212139032698261e-09\n",
      "\n",
      "Feature: loan_intent_PERSONAL\n",
      "Coeff:   -1.2255046820818621e-09\n",
      "\n",
      "Feature: loan_intent_VENTURE\n",
      "Coeff:   -3.705439416498838e-09\n",
      "\n",
      "Feature: loan_grade_A\n",
      "Coeff:   -1.0908392093604693e-08\n",
      "\n",
      "Feature: loan_grade_B\n",
      "Coeff:   -5.671145730053315e-09\n",
      "\n",
      "Feature: loan_grade_C\n",
      "Coeff:   -1.7490386375640374e-09\n",
      "\n",
      "Feature: loan_grade_D\n",
      "Coeff:   1.0836806746907344e-08\n",
      "\n",
      "Feature: loan_grade_E\n",
      "Coeff:   3.4958282109258343e-09\n",
      "\n",
      "Feature: loan_grade_F\n",
      "Coeff:   9.978095634634116e-10\n",
      "\n",
      "Feature: loan_grade_G\n",
      "Coeff:   4.85721956119371e-10\n",
      "\n",
      "Feature: cb_person_default_on_file_N\n",
      "Coeff:   -9.512175108828701e-09\n",
      "\n",
      "Feature: cb_person_default_on_file_Y\n",
      "Coeff:   6.9997651250226604e-09\n",
      "\n"
     ]
    }
   ],
   "source": [
    "# Feature weights\n",
    "feature_coefs = dict(zip(feature_variables, log_reg.coef_[0]))\n",
    "for feature, coef in feature_coefs.items():\n",
    "    print(f\"Feature: {feature}\")\n",
    "    print(f\"Coeff:   {coef}\\n\")"
   ]
  },
  {
   "cell_type": "code",
   "execution_count": 16,
   "id": "5613fd86-cf01-4920-be33-8f312421e246",
   "metadata": {},
   "outputs": [
    {
     "name": "stdout",
     "output_type": "stream",
     "text": [
      "C: 1.0\n",
      "class_weight: None\n",
      "dual: False\n",
      "fit_intercept: True\n",
      "intercept_scaling: 1\n",
      "l1_ratio: None\n",
      "max_iter: 100\n",
      "multi_class: auto\n",
      "n_jobs: None\n",
      "penalty: l2\n",
      "random_state: None\n",
      "solver: lbfgs\n",
      "tol: 0.0001\n",
      "verbose: 0\n",
      "warm_start: False\n"
     ]
    }
   ],
   "source": [
    "# Model Parameters\n",
    "for key, value in log_reg.get_params().items():\n",
    "    print(f'{key}: {value}')"
   ]
  },
  {
   "cell_type": "code",
   "execution_count": 17,
   "id": "d9735421-23ee-40d6-8868-6175b838fc92",
   "metadata": {},
   "outputs": [
    {
     "name": "stdout",
     "output_type": "stream",
     "text": [
      "-2.512409983814233e-09\n"
     ]
    }
   ],
   "source": [
    "# Model Intercept\n",
    "model_intercept = log_reg.intercept_[0]\n",
    "print(model_intercept)"
   ]
  },
  {
   "cell_type": "code",
   "execution_count": null,
   "id": "083fed6b-f03a-4190-b9d0-a51f0cd8533d",
   "metadata": {},
   "outputs": [],
   "source": []
  }
 ],
 "metadata": {
  "kernelspec": {
   "display_name": "Python 3 (ipykernel)",
   "language": "python",
   "name": "python3"
  },
  "language_info": {
   "codemirror_mode": {
    "name": "ipython",
    "version": 3
   },
   "file_extension": ".py",
   "mimetype": "text/x-python",
   "name": "python",
   "nbconvert_exporter": "python",
   "pygments_lexer": "ipython3",
   "version": "3.11.7"
  }
 },
 "nbformat": 4,
 "nbformat_minor": 5
}
