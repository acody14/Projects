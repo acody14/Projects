{
 "cells": [
  {
   "cell_type": "code",
   "execution_count": 1,
   "id": "f8036c7b-a96a-48c0-a407-dab97ee3ce86",
   "metadata": {},
   "outputs": [],
   "source": [
    "# Probability of default is the liklihood that someone will default on a loan\n",
    "# it is a value between 0 and 1 - high value indicates they are more likely to default\n",
    "# Loan status of 0 is no default and 1 is default\n",
    "\n",
    "# logistic Regression and Decision trees will be used"
   ]
  },
  {
   "cell_type": "code",
   "execution_count": 2,
   "id": "696e6970-22f5-43b2-9a7f-545df970f3c3",
   "metadata": {},
   "outputs": [],
   "source": [
    "import pandas as pd\n",
    "import numpy as np\n",
    "import matplotlib.pyplot as plt\n",
    "from sklearn.linear_model import LogisticRegression\n",
    "from sklearn.model_selection import train_test_split\n",
    "from sklearn.metrics import roc_curve, classification_report, precision_recall_fscore_support, roc_auc_score, confusion_matrix, accuracy_score"
   ]
  },
  {
   "cell_type": "code",
   "execution_count": 3,
   "id": "83dbb0c1-5afb-42d3-928d-9ae6d84e2f86",
   "metadata": {},
   "outputs": [],
   "source": [
    "df = pd.read_csv('credit_risk_dataset_clean.csv')"
   ]
  },
  {
   "cell_type": "code",
   "execution_count": 25,
   "id": "5ec7de61-cef9-47cf-b8a9-9f49cc4c2344",
   "metadata": {},
   "outputs": [
    {
     "data": {
      "text/plain": [
       "False"
      ]
     },
     "execution_count": 25,
     "metadata": {},
     "output_type": "execute_result"
    }
   ],
   "source": [
    "# no missing values\n",
    "df.isna().sum().any()"
   ]
  },
  {
   "cell_type": "code",
   "execution_count": 5,
   "id": "d751a865-9fc6-43bc-bd32-ba9284f3f13f",
   "metadata": {},
   "outputs": [
    {
     "data": {
      "text/html": [
       "<div>\n",
       "<style scoped>\n",
       "    .dataframe tbody tr th:only-of-type {\n",
       "        vertical-align: middle;\n",
       "    }\n",
       "\n",
       "    .dataframe tbody tr th {\n",
       "        vertical-align: top;\n",
       "    }\n",
       "\n",
       "    .dataframe thead th {\n",
       "        text-align: right;\n",
       "    }\n",
       "</style>\n",
       "<table border=\"1\" class=\"dataframe\">\n",
       "  <thead>\n",
       "    <tr style=\"text-align: right;\">\n",
       "      <th></th>\n",
       "      <th>person_age</th>\n",
       "      <th>person_income</th>\n",
       "      <th>person_home_ownership</th>\n",
       "      <th>person_emp_length</th>\n",
       "      <th>loan_intent</th>\n",
       "      <th>loan_grade</th>\n",
       "      <th>loan_amnt</th>\n",
       "      <th>loan_int_rate</th>\n",
       "      <th>loan_status</th>\n",
       "      <th>loan_percent_income</th>\n",
       "      <th>cb_person_default_on_file</th>\n",
       "      <th>cb_person_cred_hist_length</th>\n",
       "    </tr>\n",
       "  </thead>\n",
       "  <tbody>\n",
       "    <tr>\n",
       "      <th>0</th>\n",
       "      <td>21</td>\n",
       "      <td>9600</td>\n",
       "      <td>OWN</td>\n",
       "      <td>5.0</td>\n",
       "      <td>EDUCATION</td>\n",
       "      <td>B</td>\n",
       "      <td>1000</td>\n",
       "      <td>11.14</td>\n",
       "      <td>0</td>\n",
       "      <td>0.10</td>\n",
       "      <td>N</td>\n",
       "      <td>2</td>\n",
       "    </tr>\n",
       "    <tr>\n",
       "      <th>1</th>\n",
       "      <td>25</td>\n",
       "      <td>9600</td>\n",
       "      <td>MORTGAGE</td>\n",
       "      <td>1.0</td>\n",
       "      <td>MEDICAL</td>\n",
       "      <td>C</td>\n",
       "      <td>5500</td>\n",
       "      <td>12.87</td>\n",
       "      <td>1</td>\n",
       "      <td>0.57</td>\n",
       "      <td>N</td>\n",
       "      <td>3</td>\n",
       "    </tr>\n",
       "    <tr>\n",
       "      <th>2</th>\n",
       "      <td>23</td>\n",
       "      <td>65500</td>\n",
       "      <td>RENT</td>\n",
       "      <td>4.0</td>\n",
       "      <td>MEDICAL</td>\n",
       "      <td>C</td>\n",
       "      <td>35000</td>\n",
       "      <td>15.23</td>\n",
       "      <td>1</td>\n",
       "      <td>0.53</td>\n",
       "      <td>N</td>\n",
       "      <td>2</td>\n",
       "    </tr>\n",
       "    <tr>\n",
       "      <th>3</th>\n",
       "      <td>24</td>\n",
       "      <td>54400</td>\n",
       "      <td>RENT</td>\n",
       "      <td>8.0</td>\n",
       "      <td>MEDICAL</td>\n",
       "      <td>C</td>\n",
       "      <td>35000</td>\n",
       "      <td>14.27</td>\n",
       "      <td>1</td>\n",
       "      <td>0.55</td>\n",
       "      <td>Y</td>\n",
       "      <td>4</td>\n",
       "    </tr>\n",
       "    <tr>\n",
       "      <th>4</th>\n",
       "      <td>21</td>\n",
       "      <td>9900</td>\n",
       "      <td>OWN</td>\n",
       "      <td>2.0</td>\n",
       "      <td>VENTURE</td>\n",
       "      <td>A</td>\n",
       "      <td>2500</td>\n",
       "      <td>7.14</td>\n",
       "      <td>1</td>\n",
       "      <td>0.25</td>\n",
       "      <td>N</td>\n",
       "      <td>2</td>\n",
       "    </tr>\n",
       "  </tbody>\n",
       "</table>\n",
       "</div>"
      ],
      "text/plain": [
       "   person_age  person_income person_home_ownership  person_emp_length  \\\n",
       "0          21           9600                   OWN                5.0   \n",
       "1          25           9600              MORTGAGE                1.0   \n",
       "2          23          65500                  RENT                4.0   \n",
       "3          24          54400                  RENT                8.0   \n",
       "4          21           9900                   OWN                2.0   \n",
       "\n",
       "  loan_intent loan_grade  loan_amnt  loan_int_rate  loan_status  \\\n",
       "0   EDUCATION          B       1000          11.14            0   \n",
       "1     MEDICAL          C       5500          12.87            1   \n",
       "2     MEDICAL          C      35000          15.23            1   \n",
       "3     MEDICAL          C      35000          14.27            1   \n",
       "4     VENTURE          A       2500           7.14            1   \n",
       "\n",
       "   loan_percent_income cb_person_default_on_file  cb_person_cred_hist_length  \n",
       "0                 0.10                         N                           2  \n",
       "1                 0.57                         N                           3  \n",
       "2                 0.53                         N                           2  \n",
       "3                 0.55                         Y                           4  \n",
       "4                 0.25                         N                           2  "
      ]
     },
     "execution_count": 5,
     "metadata": {},
     "output_type": "execute_result"
    }
   ],
   "source": [
    "df.head()"
   ]
  },
  {
   "cell_type": "markdown",
   "id": "ed3ec50b-2e66-4f77-9d23-77c7f8c5fe07",
   "metadata": {},
   "source": [
    "# Data Preprocessing\n",
    "### Creating Dummy Variables, isolating feature and target variables, splitting into train and test sets"
   ]
  },
  {
   "cell_type": "code",
   "execution_count": 6,
   "id": "0b93f823-64cc-4a82-81e1-becfa8beed0b",
   "metadata": {},
   "outputs": [],
   "source": [
    "# creating dummy variables\n",
    "df = pd.get_dummies(df)"
   ]
  },
  {
   "cell_type": "code",
   "execution_count": 7,
   "id": "5bbb01a4-e4cd-4a55-92c1-fc6531d6f025",
   "metadata": {},
   "outputs": [
    {
     "name": "stdout",
     "output_type": "stream",
     "text": [
      "person_age\n",
      "person_income\n",
      "person_emp_length\n",
      "loan_amnt\n",
      "loan_int_rate\n",
      "loan_status\n",
      "loan_percent_income\n",
      "cb_person_cred_hist_length\n",
      "person_home_ownership_MORTGAGE\n",
      "person_home_ownership_OTHER\n",
      "person_home_ownership_OWN\n",
      "person_home_ownership_RENT\n",
      "loan_intent_DEBTCONSOLIDATION\n",
      "loan_intent_EDUCATION\n",
      "loan_intent_HOMEIMPROVEMENT\n",
      "loan_intent_MEDICAL\n",
      "loan_intent_PERSONAL\n",
      "loan_intent_VENTURE\n",
      "loan_grade_A\n",
      "loan_grade_B\n",
      "loan_grade_C\n",
      "loan_grade_D\n",
      "loan_grade_E\n",
      "loan_grade_F\n",
      "loan_grade_G\n",
      "cb_person_default_on_file_N\n",
      "cb_person_default_on_file_Y\n"
     ]
    }
   ],
   "source": [
    "# checking that dummy variable creation worked\n",
    "for column in df.columns:\n",
    "    print(column)"
   ]
  },
  {
   "cell_type": "code",
   "execution_count": 8,
   "id": "d0bec5c5-5645-404e-83c9-9ad99a7c0b75",
   "metadata": {},
   "outputs": [],
   "source": [
    "# Predictor X is all of our features used to predict y, our loan status target variable\n",
    "feature_variables = df.drop('loan_status', axis=1).columns\n",
    "X = df.drop('loan_status', axis=1).values\n",
    "y = df['loan_status'].values"
   ]
  },
  {
   "cell_type": "code",
   "execution_count": 9,
   "id": "cb370704-7bd5-46c5-ba8f-b1a1742ca115",
   "metadata": {},
   "outputs": [],
   "source": [
    "X_train, X_test, y_train, y_test = train_test_split(X, y, test_size=0.3)"
   ]
  },
  {
   "cell_type": "markdown",
   "id": "03d8a195-7297-47ce-a4c6-a423f14e4aee",
   "metadata": {},
   "source": [
    "# Modeling\n",
    "### Logistic Regression"
   ]
  },
  {
   "cell_type": "code",
   "execution_count": 10,
   "id": "66d0100c-5d3c-4d28-9126-b1a41d35e15b",
   "metadata": {},
   "outputs": [
    {
     "data": {
      "text/html": [
       "<style>#sk-container-id-1 {color: black;background-color: white;}#sk-container-id-1 pre{padding: 0;}#sk-container-id-1 div.sk-toggleable {background-color: white;}#sk-container-id-1 label.sk-toggleable__label {cursor: pointer;display: block;width: 100%;margin-bottom: 0;padding: 0.3em;box-sizing: border-box;text-align: center;}#sk-container-id-1 label.sk-toggleable__label-arrow:before {content: \"▸\";float: left;margin-right: 0.25em;color: #696969;}#sk-container-id-1 label.sk-toggleable__label-arrow:hover:before {color: black;}#sk-container-id-1 div.sk-estimator:hover label.sk-toggleable__label-arrow:before {color: black;}#sk-container-id-1 div.sk-toggleable__content {max-height: 0;max-width: 0;overflow: hidden;text-align: left;background-color: #f0f8ff;}#sk-container-id-1 div.sk-toggleable__content pre {margin: 0.2em;color: black;border-radius: 0.25em;background-color: #f0f8ff;}#sk-container-id-1 input.sk-toggleable__control:checked~div.sk-toggleable__content {max-height: 200px;max-width: 100%;overflow: auto;}#sk-container-id-1 input.sk-toggleable__control:checked~label.sk-toggleable__label-arrow:before {content: \"▾\";}#sk-container-id-1 div.sk-estimator input.sk-toggleable__control:checked~label.sk-toggleable__label {background-color: #d4ebff;}#sk-container-id-1 div.sk-label input.sk-toggleable__control:checked~label.sk-toggleable__label {background-color: #d4ebff;}#sk-container-id-1 input.sk-hidden--visually {border: 0;clip: rect(1px 1px 1px 1px);clip: rect(1px, 1px, 1px, 1px);height: 1px;margin: -1px;overflow: hidden;padding: 0;position: absolute;width: 1px;}#sk-container-id-1 div.sk-estimator {font-family: monospace;background-color: #f0f8ff;border: 1px dotted black;border-radius: 0.25em;box-sizing: border-box;margin-bottom: 0.5em;}#sk-container-id-1 div.sk-estimator:hover {background-color: #d4ebff;}#sk-container-id-1 div.sk-parallel-item::after {content: \"\";width: 100%;border-bottom: 1px solid gray;flex-grow: 1;}#sk-container-id-1 div.sk-label:hover label.sk-toggleable__label {background-color: #d4ebff;}#sk-container-id-1 div.sk-serial::before {content: \"\";position: absolute;border-left: 1px solid gray;box-sizing: border-box;top: 0;bottom: 0;left: 50%;z-index: 0;}#sk-container-id-1 div.sk-serial {display: flex;flex-direction: column;align-items: center;background-color: white;padding-right: 0.2em;padding-left: 0.2em;position: relative;}#sk-container-id-1 div.sk-item {position: relative;z-index: 1;}#sk-container-id-1 div.sk-parallel {display: flex;align-items: stretch;justify-content: center;background-color: white;position: relative;}#sk-container-id-1 div.sk-item::before, #sk-container-id-1 div.sk-parallel-item::before {content: \"\";position: absolute;border-left: 1px solid gray;box-sizing: border-box;top: 0;bottom: 0;left: 50%;z-index: -1;}#sk-container-id-1 div.sk-parallel-item {display: flex;flex-direction: column;z-index: 1;position: relative;background-color: white;}#sk-container-id-1 div.sk-parallel-item:first-child::after {align-self: flex-end;width: 50%;}#sk-container-id-1 div.sk-parallel-item:last-child::after {align-self: flex-start;width: 50%;}#sk-container-id-1 div.sk-parallel-item:only-child::after {width: 0;}#sk-container-id-1 div.sk-dashed-wrapped {border: 1px dashed gray;margin: 0 0.4em 0.5em 0.4em;box-sizing: border-box;padding-bottom: 0.4em;background-color: white;}#sk-container-id-1 div.sk-label label {font-family: monospace;font-weight: bold;display: inline-block;line-height: 1.2em;}#sk-container-id-1 div.sk-label-container {text-align: center;}#sk-container-id-1 div.sk-container {/* jupyter's `normalize.less` sets `[hidden] { display: none; }` but bootstrap.min.css set `[hidden] { display: none !important; }` so we also need the `!important` here to be able to override the default hidden behavior on the sphinx rendered scikit-learn.org. See: https://github.com/scikit-learn/scikit-learn/issues/21755 */display: inline-block !important;position: relative;}#sk-container-id-1 div.sk-text-repr-fallback {display: none;}</style><div id=\"sk-container-id-1\" class=\"sk-top-container\"><div class=\"sk-text-repr-fallback\"><pre>LogisticRegression()</pre><b>In a Jupyter environment, please rerun this cell to show the HTML representation or trust the notebook. <br />On GitHub, the HTML representation is unable to render, please try loading this page with nbviewer.org.</b></div><div class=\"sk-container\" hidden><div class=\"sk-item\"><div class=\"sk-estimator sk-toggleable\"><input class=\"sk-toggleable__control sk-hidden--visually\" id=\"sk-estimator-id-1\" type=\"checkbox\" checked><label for=\"sk-estimator-id-1\" class=\"sk-toggleable__label sk-toggleable__label-arrow\">LogisticRegression</label><div class=\"sk-toggleable__content\"><pre>LogisticRegression()</pre></div></div></div></div></div>"
      ],
      "text/plain": [
       "LogisticRegression()"
      ]
     },
     "execution_count": 10,
     "metadata": {},
     "output_type": "execute_result"
    }
   ],
   "source": [
    "log_reg = LogisticRegression()\n",
    "log_reg.fit(X_train,y_train)"
   ]
  },
  {
   "cell_type": "code",
   "execution_count": 11,
   "id": "7d53d184-7125-4006-8ba7-89c1ff31ab4b",
   "metadata": {},
   "outputs": [],
   "source": [
    "# making predictions\n",
    "# Uses threshold of 0.5\n",
    "pred_prob = log_reg.predict_proba(X_test)\n",
    "df_probs = pd.DataFrame(pred_prob,columns = ['prob_non_default','prob_default'])\n",
    "df_probs['loan_status_pred'] = df_probs['prob_default'].apply(lambda x: 1 if x >= 0.5 else 0)\n",
    "df_probs['loan_status_actual'] = y_test"
   ]
  },
  {
   "cell_type": "code",
   "execution_count": 12,
   "id": "f3f645c2-76bf-456b-a83e-dbb25ece5cb1",
   "metadata": {},
   "outputs": [
    {
     "data": {
      "text/html": [
       "<div>\n",
       "<style scoped>\n",
       "    .dataframe tbody tr th:only-of-type {\n",
       "        vertical-align: middle;\n",
       "    }\n",
       "\n",
       "    .dataframe tbody tr th {\n",
       "        vertical-align: top;\n",
       "    }\n",
       "\n",
       "    .dataframe thead th {\n",
       "        text-align: right;\n",
       "    }\n",
       "</style>\n",
       "<table border=\"1\" class=\"dataframe\">\n",
       "  <thead>\n",
       "    <tr style=\"text-align: right;\">\n",
       "      <th></th>\n",
       "      <th>prob_non_default</th>\n",
       "      <th>prob_default</th>\n",
       "      <th>loan_status_pred</th>\n",
       "      <th>loan_status_actual</th>\n",
       "    </tr>\n",
       "  </thead>\n",
       "  <tbody>\n",
       "    <tr>\n",
       "      <th>0</th>\n",
       "      <td>0.799648</td>\n",
       "      <td>0.200352</td>\n",
       "      <td>0</td>\n",
       "      <td>0</td>\n",
       "    </tr>\n",
       "    <tr>\n",
       "      <th>1</th>\n",
       "      <td>0.773686</td>\n",
       "      <td>0.226314</td>\n",
       "      <td>0</td>\n",
       "      <td>0</td>\n",
       "    </tr>\n",
       "    <tr>\n",
       "      <th>2</th>\n",
       "      <td>0.945506</td>\n",
       "      <td>0.054494</td>\n",
       "      <td>0</td>\n",
       "      <td>0</td>\n",
       "    </tr>\n",
       "    <tr>\n",
       "      <th>3</th>\n",
       "      <td>0.537544</td>\n",
       "      <td>0.462456</td>\n",
       "      <td>0</td>\n",
       "      <td>1</td>\n",
       "    </tr>\n",
       "    <tr>\n",
       "      <th>4</th>\n",
       "      <td>0.748257</td>\n",
       "      <td>0.251743</td>\n",
       "      <td>0</td>\n",
       "      <td>0</td>\n",
       "    </tr>\n",
       "  </tbody>\n",
       "</table>\n",
       "</div>"
      ],
      "text/plain": [
       "   prob_non_default  prob_default  loan_status_pred  loan_status_actual\n",
       "0          0.799648      0.200352                 0                   0\n",
       "1          0.773686      0.226314                 0                   0\n",
       "2          0.945506      0.054494                 0                   0\n",
       "3          0.537544      0.462456                 0                   1\n",
       "4          0.748257      0.251743                 0                   0"
      ]
     },
     "execution_count": 12,
     "metadata": {},
     "output_type": "execute_result"
    }
   ],
   "source": [
    "df_probs.head()"
   ]
  },
  {
   "cell_type": "markdown",
   "id": "e8c51d6a-962b-4c20-b778-867c54beef95",
   "metadata": {},
   "source": [
    "### Evaluating model - Logistic Regression"
   ]
  },
  {
   "cell_type": "code",
   "execution_count": 13,
   "id": "affad4ef-a3b0-41d4-aa1b-f3ae2e9d42d1",
   "metadata": {},
   "outputs": [
    {
     "name": "stdout",
     "output_type": "stream",
     "text": [
      "Model Accuracy: 0.8079161816065192\n"
     ]
    }
   ],
   "source": [
    "# Checking Accuracy of model\n",
    "print(f\"Model Accuracy: {log_reg.score(X_test,y_test)}\")"
   ]
  },
  {
   "cell_type": "code",
   "execution_count": 14,
   "id": "ecc6fe4b-5e1f-46ef-a4e1-3ee74a2d4932",
   "metadata": {},
   "outputs": [
    {
     "data": {
      "image/png": "[encoded data removed]",
      "text/plain": [
       "<Figure size 640x480 with 1 Axes>"
      ]
     },
     "metadata": {},
     "output_type": "display_data"
    }
   ],
   "source": [
    "# Plotting ROC curve\n",
    "fpr, tpr, thresholds = roc_curve(y_test, df_probs['prob_default'].values)\n",
    "plt.plot(fpr, tpr)\n",
    "plt.title('ROC Curve for loan default prediction')\n",
    "plt.xlabel('False Positive Rate')\n",
    "plt.ylabel('True Positive Rate')\n",
    "plt.plot([0,1],[0,1],'k--', alpha=0.5)\n",
    "plt.show()"
   ]
  },
  {
   "cell_type": "code",
   "execution_count": 15,
   "id": "758d35a1-04cf-480e-89fb-8c791279f42c",
   "metadata": {},
   "outputs": [
    {
     "name": "stdout",
     "output_type": "stream",
     "text": [
      "AUC Score: 0.7696762284833552\n"
     ]
    }
   ],
   "source": [
    "# Getting the AUC score - area under the curve\n",
    "print(f\"AUC Score: {roc_auc_score(y_test, df_probs['prob_default'].values)}\")"
   ]
  },
  {
   "cell_type": "code",
   "execution_count": 16,
   "id": "05b328c3-b233-4eca-91b9-23a2a5d1783f",
   "metadata": {},
   "outputs": [
    {
     "name": "stdout",
     "output_type": "stream",
     "text": [
      "              precision    recall  f1-score   support\n",
      "\n",
      " non-default       0.81      0.98      0.89      6731\n",
      "     default       0.75      0.17      0.27      1859\n",
      "\n",
      "    accuracy                           0.81      8590\n",
      "   macro avg       0.78      0.58      0.58      8590\n",
      "weighted avg       0.80      0.81      0.76      8590\n",
      "\n"
     ]
    }
   ],
   "source": [
    "print(classification_report(y_test, df_probs['loan_status_pred'], target_names=['non-default','default']))"
   ]
  },
  {
   "cell_type": "code",
   "execution_count": 17,
   "id": "ed72ff4e-f6ca-4a08-97cc-53df590bd69f",
   "metadata": {},
   "outputs": [
    {
     "name": "stdout",
     "output_type": "stream",
     "text": [
      "0.16729424421732114\n"
     ]
    }
   ],
   "source": [
    "# you can select an individual value from the classification report by using this:\n",
    "recall_default = precision_recall_fscore_support(df_probs['loan_status_actual'], df_probs['loan_status_pred'])[1][1]\n",
    "print(recall_default)\n",
    "#[1][1] is the location of the value in our report ^ for 'recall' column and 'default' row\n",
    "\n",
    "# This is bad because it means we correctly predicted only 16%  of defaults"
   ]
  },
  {
   "cell_type": "code",
   "execution_count": 18,
   "id": "d6a7e26f-f3f9-42dc-bc56-e443ed9760f3",
   "metadata": {},
   "outputs": [
    {
     "name": "stdout",
     "output_type": "stream",
     "text": [
      "[[6629  102]\n",
      " [1548  311]]\n"
     ]
    }
   ],
   "source": [
    "# Confusion Matrix\n",
    "print(confusion_matrix(y_test, df_probs['loan_status_pred']))\n",
    "\n",
    "# order is as follows\n",
    "# [ True Neg   False Pos ]\n",
    "# [ FalseNeg   True  Pos ]"
   ]
  },
  {
   "cell_type": "markdown",
   "id": "dde30afc-70ae-48a4-999e-26852692a000",
   "metadata": {},
   "source": [
    "### Estimating loss with different thresholds - Logistic Regression\n"
   ]
  },
  {
   "cell_type": "code",
   "execution_count": 19,
   "id": "70d13006-bd78-46d4-a55f-1ae29526c6a9",
   "metadata": {},
   "outputs": [],
   "source": [
    "thresholds = [round(i, 2) for i in np.arange(0.2, 0.75, 0.05)]\n",
    "\n",
    "def_recalls = []\n",
    "non_def_recalls = []\n",
    "accs = []\n",
    "est_losses = []\n",
    "\n",
    "for threshold in thresholds:\n",
    "    #creating new column based on thresholds\n",
    "    df_probs['loan_status_pred'] = df_probs['prob_default'].apply(lambda x: 1 if x >= threshold else 0)\n",
    "    #gathering default recall, non-default recall, and accuracy at each threshold\n",
    "    def_recalls.append(precision_recall_fscore_support(df_probs['loan_status_actual'], df_probs['loan_status_pred'])[1][1])\n",
    "    non_def_recalls.append(precision_recall_fscore_support(df_probs['loan_status_actual'], df_probs['loan_status_pred'])[0][1])\n",
    "    accs.append(accuracy_score(df_probs['loan_status_actual'], df_probs['loan_status_pred']))\n",
    "    #estimating loss\n",
    "    num_pred_defaults = df_probs['loan_status_pred'].sum()\n",
    "    default_recall = precision_recall_fscore_support(df_probs['loan_status_actual'], df_probs['loan_status_pred'])[1][1]\n",
    "    avg_loan_amnt = df['loan_amnt'].mean()\n",
    "    est_losses.append((avg_loan_amnt * num_pred_defaults) * (1 - default_recall))\n"
   ]
  },
  {
   "cell_type": "code",
   "execution_count": 20,
   "id": "bce54566-9bb0-4d42-848c-91150603b43d",
   "metadata": {},
   "outputs": [
    {
     "data": {
      "image/png": "[encoded data removed]",
      "text/plain": [
       "<Figure size 640x480 with 1 Axes>"
      ]
     },
     "metadata": {},
     "output_type": "display_data"
    }
   ],
   "source": [
    "plt.plot(thresholds,def_recalls)\n",
    "plt.plot(thresholds,non_def_recalls)\n",
    "plt.plot(thresholds,accs)\n",
    "plt.xlabel(\"Probability Threshold\")\n",
    "plt.legend([\"Default Recall\",\"Non-default Recall\",\"Model Accuracy\"])\n",
    "plt.show()"
   ]
  },
  {
   "cell_type": "code",
   "execution_count": 21,
   "id": "31d342cf-4e25-4d71-872a-35447e57c520",
   "metadata": {},
   "outputs": [
    {
     "data": {
      "image/png": "[encoded data removed]",
      "text/plain": [
       "<Figure size 640x480 with 1 Axes>"
      ]
     },
     "metadata": {},
     "output_type": "display_data"
    }
   ],
   "source": [
    "plt.plot(thresholds,est_losses)\n",
    "plt.xlabel('Probability Threshold')\n",
    "plt.ylabel('Loss in USD')\n",
    "plt.legend(['Loss'])\n",
    "plt.show()"
   ]
  },
  {
   "cell_type": "code",
   "execution_count": null,
   "id": "5833be03-9c04-4b2b-b5c5-3f7c10f4e75f",
   "metadata": {},
   "outputs": [],
   "source": []
  },
  {
   "cell_type": "code",
   "execution_count": null,
   "id": "72774bb8-d78a-416f-ac64-08c195831f3e",
   "metadata": {},
   "outputs": [],
   "source": []
  },
  {
   "cell_type": "code",
   "execution_count": null,
   "id": "b3fa31b6-c36d-4f07-a94e-69d5f7709085",
   "metadata": {},
   "outputs": [],
   "source": []
  },
  {
   "cell_type": "code",
   "execution_count": null,
   "id": "cd253566-986f-4bb9-bf48-9444025c503c",
   "metadata": {},
   "outputs": [],
   "source": []
  },
  {
   "cell_type": "code",
   "execution_count": null,
   "id": "b00ee4fe-9292-495e-820d-abd9ff4b205c",
   "metadata": {},
   "outputs": [],
   "source": []
  },
  {
   "cell_type": "code",
   "execution_count": null,
   "id": "55149552-903b-45d2-960d-925e0ed4622d",
   "metadata": {},
   "outputs": [],
   "source": []
  },
  {
   "cell_type": "code",
   "execution_count": null,
   "id": "ccacec68-f826-4821-9ed5-51eb3966ed2a",
   "metadata": {},
   "outputs": [],
   "source": []
  },
  {
   "cell_type": "code",
   "execution_count": 22,
   "id": "11f2e89e-7120-4ed1-a1d8-5301fed9eea5",
   "metadata": {},
   "outputs": [
    {
     "name": "stdout",
     "output_type": "stream",
     "text": [
      "Feature: person_age\n",
      "Coeff:   -6.915497697592514e-08\n",
      "\n",
      "Feature: person_income\n",
      "Coeff:   -3.951503327967029e-05\n",
      "\n",
      "Feature: person_emp_length\n",
      "Coeff:   -2.6227913783202977e-08\n",
      "\n",
      "Feature: loan_amnt\n",
      "Coeff:   0.0001025252281355254\n",
      "\n",
      "Feature: loan_int_rate\n",
      "Coeff:   9.02449299792548e-08\n",
      "\n",
      "Feature: loan_percent_income\n",
      "Coeff:   2.38978317310965e-09\n",
      "\n",
      "Feature: cb_person_cred_hist_length\n",
      "Coeff:   -1.1000412393440612e-08\n",
      "\n",
      "Feature: person_home_ownership_MORTGAGE\n",
      "Coeff:   -6.171270682837602e-09\n",
      "\n",
      "Feature: person_home_ownership_OTHER\n",
      "Coeff:   9.833768025784598e-12\n",
      "\n",
      "Feature: person_home_ownership_OWN\n",
      "Coeff:   -3.881377448990854e-09\n",
      "\n",
      "Feature: person_home_ownership_RENT\n",
      "Coeff:   7.327002525162828e-09\n",
      "\n",
      "Feature: loan_intent_DEBTCONSOLIDATION\n",
      "Coeff:   2.3329213271180744e-09\n",
      "\n",
      "Feature: loan_intent_EDUCATION\n",
      "Coeff:   -3.2216800211120435e-09\n",
      "\n",
      "Feature: loan_intent_HOMEIMPROVEMENT\n",
      "Coeff:   1.8585121550265602e-09\n",
      "\n",
      "Feature: loan_intent_MEDICAL\n",
      "Coeff:   1.214107124941608e-09\n",
      "\n",
      "Feature: loan_intent_PERSONAL\n",
      "Coeff:   -1.0728205560017491e-09\n",
      "\n",
      "Feature: loan_intent_VENTURE\n",
      "Coeff:   -3.826851868612291e-09\n",
      "\n",
      "Feature: loan_grade_A\n",
      "Coeff:   -1.1107925619239044e-08\n",
      "\n",
      "Feature: loan_grade_B\n",
      "Coeff:   -5.913087001487529e-09\n",
      "\n",
      "Feature: loan_grade_C\n",
      "Coeff:   -1.7243486329307183e-09\n",
      "\n",
      "Feature: loan_grade_D\n",
      "Coeff:   1.0976294732360966e-08\n",
      "\n",
      "Feature: loan_grade_E\n",
      "Coeff:   3.6391421820175697e-09\n",
      "\n",
      "Feature: loan_grade_F\n",
      "Coeff:   9.534753127800332e-10\n",
      "\n",
      "Feature: loan_grade_G\n",
      "Coeff:   4.6063718785888095e-10\n",
      "\n",
      "Feature: cb_person_default_on_file_N\n",
      "Coeff:   -9.841807366277886e-09\n",
      "\n",
      "Feature: cb_person_default_on_file_Y\n",
      "Coeff:   7.125995527638055e-09\n",
      "\n"
     ]
    }
   ],
   "source": [
    "# Feature weights\n",
    "feature_coefs = dict(zip(feature_variables, log_reg.coef_[0]))\n",
    "for feature, coef in feature_coefs.items():\n",
    "    print(f\"Feature: {feature}\")\n",
    "    print(f\"Coeff:   {coef}\\n\")"
   ]
  },
  {
   "cell_type": "code",
   "execution_count": 23,
   "id": "5613fd86-cf01-4920-be33-8f312421e246",
   "metadata": {},
   "outputs": [
    {
     "name": "stdout",
     "output_type": "stream",
     "text": [
      "C: 1.0\n",
      "class_weight: None\n",
      "dual: False\n",
      "fit_intercept: True\n",
      "intercept_scaling: 1\n",
      "l1_ratio: None\n",
      "max_iter: 100\n",
      "multi_class: auto\n",
      "n_jobs: None\n",
      "penalty: l2\n",
      "random_state: None\n",
      "solver: lbfgs\n",
      "tol: 0.0001\n",
      "verbose: 0\n",
      "warm_start: False\n"
     ]
    }
   ],
   "source": [
    "# Model Parameters\n",
    "for key, value in log_reg.get_params().items():\n",
    "    print(f'{key}: {value}')"
   ]
  },
  {
   "cell_type": "code",
   "execution_count": 24,
   "id": "d9735421-23ee-40d6-8868-6175b838fc92",
   "metadata": {},
   "outputs": [
    {
     "name": "stdout",
     "output_type": "stream",
     "text": [
      "-2.7158118386484236e-09\n"
     ]
    }
   ],
   "source": [
    "# Model Intercept\n",
    "model_intercept = log_reg.intercept_[0]\n",
    "print(model_intercept)"
   ]
  }
 ],
 "metadata": {
  "kernelspec": {
   "display_name": "Python 3 (ipykernel)",
   "language": "python",
   "name": "python3"
  },
  "language_info": {
   "codemirror_mode": {
    "name": "ipython",
    "version": 3
   },
   "file_extension": ".py",
   "mimetype": "text/x-python",
   "name": "python",
   "nbconvert_exporter": "python",
   "pygments_lexer": "ipython3",
   "version": "3.11.7"
  }
 },
 "nbformat": 4,
 "nbformat_minor": 5
}
