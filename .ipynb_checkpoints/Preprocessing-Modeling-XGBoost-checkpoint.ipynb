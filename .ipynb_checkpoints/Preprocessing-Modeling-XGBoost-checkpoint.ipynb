{
 "cells": [
  {
   "cell_type": "code",
   "execution_count": 1,
   "id": "f8036c7b-a96a-48c0-a407-dab97ee3ce86",
   "metadata": {},
   "outputs": [],
   "source": [
    "# Probability of default is the liklihood that someone will default on a loan\n",
    "# it is a value between 0 and 1 - high value indicates they are more likely to default\n",
    "# Loan status of 0 is no default and 1 is default\n",
    "\n",
    "# logistic Regression and Decision trees will be used"
   ]
  },
  {
   "cell_type": "code",
   "execution_count": 2,
   "id": "696e6970-22f5-43b2-9a7f-545df970f3c3",
   "metadata": {},
   "outputs": [],
   "source": [
    "import pandas as pd\n",
    "import numpy as np\n",
    "import matplotlib.pyplot as plt\n",
    "from xgboost import XGBClassifier\n",
    "from sklearn.model_selection import train_test_split\n",
    "from sklearn.metrics import roc_curve, classification_report, precision_recall_fscore_support, roc_auc_score, confusion_matrix, accuracy_score"
   ]
  },
  {
   "cell_type": "code",
   "execution_count": 3,
   "id": "83dbb0c1-5afb-42d3-928d-9ae6d84e2f86",
   "metadata": {},
   "outputs": [],
   "source": [
    "df = pd.read_csv('credit_risk_dataset_clean.csv')"
   ]
  },
  {
   "cell_type": "markdown",
   "id": "ed3ec50b-2e66-4f77-9d23-77c7f8c5fe07",
   "metadata": {},
   "source": [
    "# Data Preprocessing\n",
    "### Creating Dummy Variables, isolating feature and target variables, splitting into train and test sets"
   ]
  },
  {
   "cell_type": "code",
   "execution_count": 6,
   "id": "0b93f823-64cc-4a82-81e1-becfa8beed0b",
   "metadata": {},
   "outputs": [],
   "source": [
    "# creating dummy variables\n",
    "df = pd.get_dummies(df)"
   ]
  },
  {
   "cell_type": "code",
   "execution_count": 8,
   "id": "d0bec5c5-5645-404e-83c9-9ad99a7c0b75",
   "metadata": {},
   "outputs": [],
   "source": [
    "# Predictor X is all of our features used to predict y, our loan status target variable\n",
    "feature_variables = df.drop('loan_status', axis=1).columns\n",
    "X = df.drop('loan_status', axis=1).values\n",
    "y = df['loan_status'].values"
   ]
  },
  {
   "cell_type": "code",
   "execution_count": 9,
   "id": "cb370704-7bd5-46c5-ba8f-b1a1742ca115",
   "metadata": {},
   "outputs": [],
   "source": [
    "X_train, X_test, y_train, y_test = train_test_split(X, y, test_size=0.3)"
   ]
  },
  {
   "cell_type": "markdown",
   "id": "03d8a195-7297-47ce-a4c6-a423f14e4aee",
   "metadata": {},
   "source": [
    "# Modeling\n",
    "### XGBoost"
   ]
  },
  {
   "cell_type": "markdown",
   "id": "e8c51d6a-962b-4c20-b778-867c54beef95",
   "metadata": {},
   "source": [
    "### Evaluating model - XGBoost"
   ]
  },
  {
   "cell_type": "markdown",
   "id": "dde30afc-70ae-48a4-999e-26852692a000",
   "metadata": {},
   "source": [
    "### Estimating loss with different thresholds - XGBoost\n"
   ]
  },
  {
   "cell_type": "code",
   "execution_count": null,
   "id": "5833be03-9c04-4b2b-b5c5-3f7c10f4e75f",
   "metadata": {},
   "outputs": [],
   "source": []
  },
  {
   "cell_type": "code",
   "execution_count": null,
   "id": "72774bb8-d78a-416f-ac64-08c195831f3e",
   "metadata": {},
   "outputs": [],
   "source": []
  },
  {
   "cell_type": "code",
   "execution_count": null,
   "id": "b3fa31b6-c36d-4f07-a94e-69d5f7709085",
   "metadata": {},
   "outputs": [],
   "source": []
  },
  {
   "cell_type": "code",
   "execution_count": null,
   "id": "cd253566-986f-4bb9-bf48-9444025c503c",
   "metadata": {},
   "outputs": [],
   "source": []
  },
  {
   "cell_type": "code",
   "execution_count": null,
   "id": "b00ee4fe-9292-495e-820d-abd9ff4b205c",
   "metadata": {},
   "outputs": [],
   "source": []
  },
  {
   "cell_type": "code",
   "execution_count": null,
   "id": "55149552-903b-45d2-960d-925e0ed4622d",
   "metadata": {},
   "outputs": [],
   "source": []
  },
  {
   "cell_type": "code",
   "execution_count": null,
   "id": "ccacec68-f826-4821-9ed5-51eb3966ed2a",
   "metadata": {},
   "outputs": [],
   "source": []
  },
  {
   "cell_type": "code",
   "execution_count": null,
   "id": "083fed6b-f03a-4190-b9d0-a51f0cd8533d",
   "metadata": {},
   "outputs": [],
   "source": []
  }
 ],
 "metadata": {
  "kernelspec": {
   "display_name": "Python 3 (ipykernel)",
   "language": "python",
   "name": "python3"
  },
  "language_info": {
   "codemirror_mode": {
    "name": "ipython",
    "version": 3
   },
   "file_extension": ".py",
   "mimetype": "text/x-python",
   "name": "python",
   "nbconvert_exporter": "python",
   "pygments_lexer": "ipython3",
   "version": "3.11.7"
  }
 },
 "nbformat": 4,
 "nbformat_minor": 5
}
